{
  "cells": [
    {
      "cell_type": "markdown",
      "id": "238157d0",
      "metadata": {
        "id": "238157d0"
      },
      "source": [
        "# Olá, seja muito bem-vindo ao desafio de Engenheiro(a) de dados da [A3Data]\n",
        "\n",
        "<p align=\"center\">\n",
        "  <a href=\"\" rel=\"noopener\">\n",
        " <img src=\"https://cdn-content.talentbrand.com.br/companies/394/header/ec1d053357fc5889b2daf50460552dd67b399a89.png?1606219795\" alt=\"Project logo\"></a>\n",
        "</p>"
      ]
    },
    {
      "cell_type": "markdown",
      "id": "3511ad46",
      "metadata": {
        "id": "3511ad46"
      },
      "source": [
        "### Cria um mount point no seu Google Drive para acessar os dados do DataLake"
      ]
    },
    {
      "cell_type": "markdown",
      "id": "cbc094de",
      "metadata": {
        "id": "cbc094de"
      },
      "source": [
        "- Execute e passe o código solicitado"
      ]
    },
    {
      "cell_type": "code",
      "execution_count": 1,
      "id": "48c22fa4",
      "metadata": {
        "id": "48c22fa4",
        "colab": {
          "base_uri": "https://localhost:8080/"
        },
        "outputId": "65f90d90-8969-46b1-ce62-1828ae0256fc"
      },
      "outputs": [
        {
          "output_type": "stream",
          "name": "stdout",
          "text": [
            "Drive already mounted at /content/drive/; to attempt to forcibly remount, call drive.mount(\"/content/drive/\", force_remount=True).\n"
          ]
        }
      ],
      "source": [
        "from google.colab import drive\n",
        "drive.mount('/content/drive/')"
      ]
    },
    {
      "cell_type": "markdown",
      "id": "40f358e2",
      "metadata": {
        "id": "40f358e2"
      },
      "source": [
        "### Importação das bibliotecas necessárias para realização do exercício"
      ]
    },
    {
      "cell_type": "code",
      "execution_count": 2,
      "id": "07f0f915",
      "metadata": {
        "id": "07f0f915"
      },
      "outputs": [],
      "source": [
        "import pandas as pd\n",
        "import json\n",
        "import os\n",
        "import glob\n",
        "from sqlalchemy import create_engine, inspect, text\n",
        "from pandas import DataFrame"
      ]
    },
    {
      "cell_type": "code",
      "execution_count": 3,
      "id": "3fb06d16",
      "metadata": {
        "id": "3fb06d16"
      },
      "outputs": [],
      "source": [
        "engine = create_engine('sqlite://', echo=False)"
      ]
    },
    {
      "cell_type": "code",
      "source": [
        "users_path = '/content/drive/MyDrive/datalake/landing-zone/user'\n",
        "\n",
        "df_user = pd.DataFrame()\n",
        "\n",
        "for filename in os.listdir(users_path):\n",
        "  if filename.endswith('json'):\n",
        "    temp_df = pd.read_json(os.path.join(users_path,filename))\n",
        "    df_user = pd.concat([df_user,temp_df],ignore_index=True)\n",
        "\n",
        "columns_to_keep = ['user_id','first_name','last_name','email','date_of_birth']\n",
        "\n",
        "df_user = df_user[columns_to_keep]\n",
        "df_user.to_sql('user', engine, index=False)"
      ],
      "metadata": {
        "colab": {
          "base_uri": "https://localhost:8080/"
        },
        "id": "o8OtysdezmSa",
        "outputId": "670106e8-917f-4d2d-d239-67c1ef3ae4ee"
      },
      "id": "o8OtysdezmSa",
      "execution_count": 4,
      "outputs": [
        {
          "output_type": "execute_result",
          "data": {
            "text/plain": [
              "800"
            ]
          },
          "metadata": {},
          "execution_count": 4
        }
      ]
    },
    {
      "cell_type": "code",
      "source": [
        "ecommerce_path = '/content/drive/MyDrive/datalake/landing-zone/commerce'\n",
        "\n",
        "df_ecommerce = pd.DataFrame()\n",
        "\n",
        "for filename in os.listdir(ecommerce_path):\n",
        "  if filename.endswith('json'):\n",
        "    temp_df = pd.read_json(os.path.join(ecommerce_path,filename))\n",
        "    df_ecommerce = pd.concat([df_ecommerce,temp_df],ignore_index=True)\n",
        "\n",
        "columns_to_keep = ['user_id','department','product_name','price']\n",
        "\n",
        "df_ecommerce = df_ecommerce[columns_to_keep]\n",
        "df_ecommerce.to_sql('ecommerce', engine, index=False)"
      ],
      "metadata": {
        "colab": {
          "base_uri": "https://localhost:8080/"
        },
        "id": "i1sHVJuc2bsB",
        "outputId": "18ded732-58d2-4a5b-9760-97e04f1249a9"
      },
      "id": "i1sHVJuc2bsB",
      "execution_count": 5,
      "outputs": [
        {
          "output_type": "execute_result",
          "data": {
            "text/plain": [
              "800"
            ]
          },
          "metadata": {},
          "execution_count": 5
        }
      ]
    },
    {
      "cell_type": "code",
      "source": [
        "device_path = '/content/drive/MyDrive/datalake/landing-zone/device'\n",
        "\n",
        "df_device = pd.DataFrame()\n",
        "\n",
        "for filename in os.listdir(device_path):\n",
        "  if filename.endswith('json'):\n",
        "    temp_df = pd.read_json(os.path.join(device_path,filename))\n",
        "    df_device = pd.concat([df_device,temp_df],ignore_index=True)\n",
        "\n",
        "columns_to_keep = ['user_id','platform','model']\n",
        "\n",
        "df_device = df_device[columns_to_keep]\n",
        "df_device.to_sql('device', engine, index=False)"
      ],
      "metadata": {
        "colab": {
          "base_uri": "https://localhost:8080/"
        },
        "id": "CRjRd9qi3Dwk",
        "outputId": "a888877e-6a17-43f7-8c27-02f7c0ec75ab"
      },
      "id": "CRjRd9qi3Dwk",
      "execution_count": 6,
      "outputs": [
        {
          "output_type": "execute_result",
          "data": {
            "text/plain": [
              "800"
            ]
          },
          "metadata": {},
          "execution_count": 6
        }
      ]
    },
    {
      "cell_type": "code",
      "source": [
        "connection = engine.connect()\n",
        "\n",
        "query = text(\"\"\"\n",
        "SELECT *\n",
        "FROM user\n",
        "JOIN device ON user.user_id = device.user_id\n",
        "JOIN ecommerce ON user.user_id = ecommerce.user_id\n",
        "\"\"\")\n",
        "\n",
        "result = connection.execute(query).fetchall()\n",
        "\n",
        "connection.close()\n",
        "\n",
        "platform_count = pd.DataFrame(result)\n",
        "platform_count"
      ],
      "metadata": {
        "colab": {
          "base_uri": "https://localhost:8080/",
          "height": 431
        },
        "id": "oG0FBw62CBc9",
        "outputId": "2e89b903-06ee-4a94-868b-db9b3e2c6b1e"
      },
      "id": "oG0FBw62CBc9",
      "execution_count": 7,
      "outputs": [
        {
          "output_type": "execute_result",
          "data": {
            "text/plain": [
              "   user_id first_name last_name                      email date_of_birth  \\\n",
              "0     3474     Adelia     Fahey     adelia.fahey@email.com    1968-05-08   \n",
              "1     9140      James   Simonis    james.simonis@email.com    1996-03-31   \n",
              "2     1332     Lavera     Hayes     lavera.hayes@email.com    1963-03-14   \n",
              "3     2658     Weston    Jacobs    weston.jacobs@email.com    1978-05-24   \n",
              "4     8294    Nereida   Tillman  nereida.tillman@email.com    1959-09-08   \n",
              "5     8294      Denny   McClure    denny.mcclure@email.com    1968-03-31   \n",
              "\n",
              "   user_id           platform                   model  user_id  \\\n",
              "0     3474         Windows RT       Samsung Galaxy S7     3474   \n",
              "1     9140          Danger OS             Xiaomi Mi 8     9140   \n",
              "2     1332  Windows 10 Mobile              OnePlus 5T     1332   \n",
              "3     2658      Windows Phone      Huawei Mate 20 Pro     2658   \n",
              "4     8294  Windows 10 Mobile  Samsung Galaxy S6 Edge     8294   \n",
              "5     8294  Windows 10 Mobile  Samsung Galaxy S6 Edge     8294   \n",
              "\n",
              "             department               product_name  price  \n",
              "0                 Music   Synergistic Marble Chair  53.89  \n",
              "1   Industrial & Beauty        Small Wooden Bottle  16.24  \n",
              "2  Garden & Electronics        Awesome Linen Bench  41.64  \n",
              "3                Movies  Lightweight Leather Clock  44.41  \n",
              "4     Shoes & Computers       Small Granite Wallet  73.38  \n",
              "5     Shoes & Computers       Small Granite Wallet  73.38  "
            ],
            "text/html": [
              "\n",
              "  <div id=\"df-8ad443df-4daf-4adf-8850-ffbf031c77c8\" class=\"colab-df-container\">\n",
              "    <div>\n",
              "<style scoped>\n",
              "    .dataframe tbody tr th:only-of-type {\n",
              "        vertical-align: middle;\n",
              "    }\n",
              "\n",
              "    .dataframe tbody tr th {\n",
              "        vertical-align: top;\n",
              "    }\n",
              "\n",
              "    .dataframe thead th {\n",
              "        text-align: right;\n",
              "    }\n",
              "</style>\n",
              "<table border=\"1\" class=\"dataframe\">\n",
              "  <thead>\n",
              "    <tr style=\"text-align: right;\">\n",
              "      <th></th>\n",
              "      <th>user_id</th>\n",
              "      <th>first_name</th>\n",
              "      <th>last_name</th>\n",
              "      <th>email</th>\n",
              "      <th>date_of_birth</th>\n",
              "      <th>user_id</th>\n",
              "      <th>platform</th>\n",
              "      <th>model</th>\n",
              "      <th>user_id</th>\n",
              "      <th>department</th>\n",
              "      <th>product_name</th>\n",
              "      <th>price</th>\n",
              "    </tr>\n",
              "  </thead>\n",
              "  <tbody>\n",
              "    <tr>\n",
              "      <th>0</th>\n",
              "      <td>3474</td>\n",
              "      <td>Adelia</td>\n",
              "      <td>Fahey</td>\n",
              "      <td>adelia.fahey@email.com</td>\n",
              "      <td>1968-05-08</td>\n",
              "      <td>3474</td>\n",
              "      <td>Windows RT</td>\n",
              "      <td>Samsung Galaxy S7</td>\n",
              "      <td>3474</td>\n",
              "      <td>Music</td>\n",
              "      <td>Synergistic Marble Chair</td>\n",
              "      <td>53.89</td>\n",
              "    </tr>\n",
              "    <tr>\n",
              "      <th>1</th>\n",
              "      <td>9140</td>\n",
              "      <td>James</td>\n",
              "      <td>Simonis</td>\n",
              "      <td>james.simonis@email.com</td>\n",
              "      <td>1996-03-31</td>\n",
              "      <td>9140</td>\n",
              "      <td>Danger OS</td>\n",
              "      <td>Xiaomi Mi 8</td>\n",
              "      <td>9140</td>\n",
              "      <td>Industrial &amp; Beauty</td>\n",
              "      <td>Small Wooden Bottle</td>\n",
              "      <td>16.24</td>\n",
              "    </tr>\n",
              "    <tr>\n",
              "      <th>2</th>\n",
              "      <td>1332</td>\n",
              "      <td>Lavera</td>\n",
              "      <td>Hayes</td>\n",
              "      <td>lavera.hayes@email.com</td>\n",
              "      <td>1963-03-14</td>\n",
              "      <td>1332</td>\n",
              "      <td>Windows 10 Mobile</td>\n",
              "      <td>OnePlus 5T</td>\n",
              "      <td>1332</td>\n",
              "      <td>Garden &amp; Electronics</td>\n",
              "      <td>Awesome Linen Bench</td>\n",
              "      <td>41.64</td>\n",
              "    </tr>\n",
              "    <tr>\n",
              "      <th>3</th>\n",
              "      <td>2658</td>\n",
              "      <td>Weston</td>\n",
              "      <td>Jacobs</td>\n",
              "      <td>weston.jacobs@email.com</td>\n",
              "      <td>1978-05-24</td>\n",
              "      <td>2658</td>\n",
              "      <td>Windows Phone</td>\n",
              "      <td>Huawei Mate 20 Pro</td>\n",
              "      <td>2658</td>\n",
              "      <td>Movies</td>\n",
              "      <td>Lightweight Leather Clock</td>\n",
              "      <td>44.41</td>\n",
              "    </tr>\n",
              "    <tr>\n",
              "      <th>4</th>\n",
              "      <td>8294</td>\n",
              "      <td>Nereida</td>\n",
              "      <td>Tillman</td>\n",
              "      <td>nereida.tillman@email.com</td>\n",
              "      <td>1959-09-08</td>\n",
              "      <td>8294</td>\n",
              "      <td>Windows 10 Mobile</td>\n",
              "      <td>Samsung Galaxy S6 Edge</td>\n",
              "      <td>8294</td>\n",
              "      <td>Shoes &amp; Computers</td>\n",
              "      <td>Small Granite Wallet</td>\n",
              "      <td>73.38</td>\n",
              "    </tr>\n",
              "    <tr>\n",
              "      <th>5</th>\n",
              "      <td>8294</td>\n",
              "      <td>Denny</td>\n",
              "      <td>McClure</td>\n",
              "      <td>denny.mcclure@email.com</td>\n",
              "      <td>1968-03-31</td>\n",
              "      <td>8294</td>\n",
              "      <td>Windows 10 Mobile</td>\n",
              "      <td>Samsung Galaxy S6 Edge</td>\n",
              "      <td>8294</td>\n",
              "      <td>Shoes &amp; Computers</td>\n",
              "      <td>Small Granite Wallet</td>\n",
              "      <td>73.38</td>\n",
              "    </tr>\n",
              "  </tbody>\n",
              "</table>\n",
              "</div>\n",
              "    <div class=\"colab-df-buttons\">\n",
              "\n",
              "  <div class=\"colab-df-container\">\n",
              "    <button class=\"colab-df-convert\" onclick=\"convertToInteractive('df-8ad443df-4daf-4adf-8850-ffbf031c77c8')\"\n",
              "            title=\"Convert this dataframe to an interactive table.\"\n",
              "            style=\"display:none;\">\n",
              "\n",
              "  <svg xmlns=\"http://www.w3.org/2000/svg\" height=\"24px\" viewBox=\"0 -960 960 960\">\n",
              "    <path d=\"M120-120v-720h720v720H120Zm60-500h600v-160H180v160Zm220 220h160v-160H400v160Zm0 220h160v-160H400v160ZM180-400h160v-160H180v160Zm440 0h160v-160H620v160ZM180-180h160v-160H180v160Zm440 0h160v-160H620v160Z\"/>\n",
              "  </svg>\n",
              "    </button>\n",
              "\n",
              "  <style>\n",
              "    .colab-df-container {\n",
              "      display:flex;\n",
              "      gap: 12px;\n",
              "    }\n",
              "\n",
              "    .colab-df-convert {\n",
              "      background-color: #E8F0FE;\n",
              "      border: none;\n",
              "      border-radius: 50%;\n",
              "      cursor: pointer;\n",
              "      display: none;\n",
              "      fill: #1967D2;\n",
              "      height: 32px;\n",
              "      padding: 0 0 0 0;\n",
              "      width: 32px;\n",
              "    }\n",
              "\n",
              "    .colab-df-convert:hover {\n",
              "      background-color: #E2EBFA;\n",
              "      box-shadow: 0px 1px 2px rgba(60, 64, 67, 0.3), 0px 1px 3px 1px rgba(60, 64, 67, 0.15);\n",
              "      fill: #174EA6;\n",
              "    }\n",
              "\n",
              "    .colab-df-buttons div {\n",
              "      margin-bottom: 4px;\n",
              "    }\n",
              "\n",
              "    [theme=dark] .colab-df-convert {\n",
              "      background-color: #3B4455;\n",
              "      fill: #D2E3FC;\n",
              "    }\n",
              "\n",
              "    [theme=dark] .colab-df-convert:hover {\n",
              "      background-color: #434B5C;\n",
              "      box-shadow: 0px 1px 3px 1px rgba(0, 0, 0, 0.15);\n",
              "      filter: drop-shadow(0px 1px 2px rgba(0, 0, 0, 0.3));\n",
              "      fill: #FFFFFF;\n",
              "    }\n",
              "  </style>\n",
              "\n",
              "    <script>\n",
              "      const buttonEl =\n",
              "        document.querySelector('#df-8ad443df-4daf-4adf-8850-ffbf031c77c8 button.colab-df-convert');\n",
              "      buttonEl.style.display =\n",
              "        google.colab.kernel.accessAllowed ? 'block' : 'none';\n",
              "\n",
              "      async function convertToInteractive(key) {\n",
              "        const element = document.querySelector('#df-8ad443df-4daf-4adf-8850-ffbf031c77c8');\n",
              "        const dataTable =\n",
              "          await google.colab.kernel.invokeFunction('convertToInteractive',\n",
              "                                                    [key], {});\n",
              "        if (!dataTable) return;\n",
              "\n",
              "        const docLinkHtml = 'Like what you see? Visit the ' +\n",
              "          '<a target=\"_blank\" href=https://colab.research.google.com/notebooks/data_table.ipynb>data table notebook</a>'\n",
              "          + ' to learn more about interactive tables.';\n",
              "        element.innerHTML = '';\n",
              "        dataTable['output_type'] = 'display_data';\n",
              "        await google.colab.output.renderOutput(dataTable, element);\n",
              "        const docLink = document.createElement('div');\n",
              "        docLink.innerHTML = docLinkHtml;\n",
              "        element.appendChild(docLink);\n",
              "      }\n",
              "    </script>\n",
              "  </div>\n",
              "\n",
              "\n",
              "<div id=\"df-a79ba384-dbae-4f3d-afcb-ec6cf61a8cee\">\n",
              "  <button class=\"colab-df-quickchart\" onclick=\"quickchart('df-a79ba384-dbae-4f3d-afcb-ec6cf61a8cee')\"\n",
              "            title=\"Suggest charts.\"\n",
              "            style=\"display:none;\">\n",
              "\n",
              "<svg xmlns=\"http://www.w3.org/2000/svg\" height=\"24px\"viewBox=\"0 0 24 24\"\n",
              "     width=\"24px\">\n",
              "    <g>\n",
              "        <path d=\"M19 3H5c-1.1 0-2 .9-2 2v14c0 1.1.9 2 2 2h14c1.1 0 2-.9 2-2V5c0-1.1-.9-2-2-2zM9 17H7v-7h2v7zm4 0h-2V7h2v10zm4 0h-2v-4h2v4z\"/>\n",
              "    </g>\n",
              "</svg>\n",
              "  </button>\n",
              "\n",
              "<style>\n",
              "  .colab-df-quickchart {\n",
              "      --bg-color: #E8F0FE;\n",
              "      --fill-color: #1967D2;\n",
              "      --hover-bg-color: #E2EBFA;\n",
              "      --hover-fill-color: #174EA6;\n",
              "      --disabled-fill-color: #AAA;\n",
              "      --disabled-bg-color: #DDD;\n",
              "  }\n",
              "\n",
              "  [theme=dark] .colab-df-quickchart {\n",
              "      --bg-color: #3B4455;\n",
              "      --fill-color: #D2E3FC;\n",
              "      --hover-bg-color: #434B5C;\n",
              "      --hover-fill-color: #FFFFFF;\n",
              "      --disabled-bg-color: #3B4455;\n",
              "      --disabled-fill-color: #666;\n",
              "  }\n",
              "\n",
              "  .colab-df-quickchart {\n",
              "    background-color: var(--bg-color);\n",
              "    border: none;\n",
              "    border-radius: 50%;\n",
              "    cursor: pointer;\n",
              "    display: none;\n",
              "    fill: var(--fill-color);\n",
              "    height: 32px;\n",
              "    padding: 0;\n",
              "    width: 32px;\n",
              "  }\n",
              "\n",
              "  .colab-df-quickchart:hover {\n",
              "    background-color: var(--hover-bg-color);\n",
              "    box-shadow: 0 1px 2px rgba(60, 64, 67, 0.3), 0 1px 3px 1px rgba(60, 64, 67, 0.15);\n",
              "    fill: var(--button-hover-fill-color);\n",
              "  }\n",
              "\n",
              "  .colab-df-quickchart-complete:disabled,\n",
              "  .colab-df-quickchart-complete:disabled:hover {\n",
              "    background-color: var(--disabled-bg-color);\n",
              "    fill: var(--disabled-fill-color);\n",
              "    box-shadow: none;\n",
              "  }\n",
              "\n",
              "  .colab-df-spinner {\n",
              "    border: 2px solid var(--fill-color);\n",
              "    border-color: transparent;\n",
              "    border-bottom-color: var(--fill-color);\n",
              "    animation:\n",
              "      spin 1s steps(1) infinite;\n",
              "  }\n",
              "\n",
              "  @keyframes spin {\n",
              "    0% {\n",
              "      border-color: transparent;\n",
              "      border-bottom-color: var(--fill-color);\n",
              "      border-left-color: var(--fill-color);\n",
              "    }\n",
              "    20% {\n",
              "      border-color: transparent;\n",
              "      border-left-color: var(--fill-color);\n",
              "      border-top-color: var(--fill-color);\n",
              "    }\n",
              "    30% {\n",
              "      border-color: transparent;\n",
              "      border-left-color: var(--fill-color);\n",
              "      border-top-color: var(--fill-color);\n",
              "      border-right-color: var(--fill-color);\n",
              "    }\n",
              "    40% {\n",
              "      border-color: transparent;\n",
              "      border-right-color: var(--fill-color);\n",
              "      border-top-color: var(--fill-color);\n",
              "    }\n",
              "    60% {\n",
              "      border-color: transparent;\n",
              "      border-right-color: var(--fill-color);\n",
              "    }\n",
              "    80% {\n",
              "      border-color: transparent;\n",
              "      border-right-color: var(--fill-color);\n",
              "      border-bottom-color: var(--fill-color);\n",
              "    }\n",
              "    90% {\n",
              "      border-color: transparent;\n",
              "      border-bottom-color: var(--fill-color);\n",
              "    }\n",
              "  }\n",
              "</style>\n",
              "\n",
              "  <script>\n",
              "    async function quickchart(key) {\n",
              "      const quickchartButtonEl =\n",
              "        document.querySelector('#' + key + ' button');\n",
              "      quickchartButtonEl.disabled = true;  // To prevent multiple clicks.\n",
              "      quickchartButtonEl.classList.add('colab-df-spinner');\n",
              "      try {\n",
              "        const charts = await google.colab.kernel.invokeFunction(\n",
              "            'suggestCharts', [key], {});\n",
              "      } catch (error) {\n",
              "        console.error('Error during call to suggestCharts:', error);\n",
              "      }\n",
              "      quickchartButtonEl.classList.remove('colab-df-spinner');\n",
              "      quickchartButtonEl.classList.add('colab-df-quickchart-complete');\n",
              "    }\n",
              "    (() => {\n",
              "      let quickchartButtonEl =\n",
              "        document.querySelector('#df-a79ba384-dbae-4f3d-afcb-ec6cf61a8cee button');\n",
              "      quickchartButtonEl.style.display =\n",
              "        google.colab.kernel.accessAllowed ? 'block' : 'none';\n",
              "    })();\n",
              "  </script>\n",
              "</div>\n",
              "    </div>\n",
              "  </div>\n"
            ]
          },
          "metadata": {},
          "execution_count": 7
        }
      ]
    },
    {
      "cell_type": "code",
      "source": [
        "platform_count.to_csv('/content/drive/MyDrive/datalake/consumer-zone/plataform_count.csv', index=False)"
      ],
      "metadata": {
        "id": "vIXNWXZzHEdz"
      },
      "id": "vIXNWXZzHEdz",
      "execution_count": 8,
      "outputs": []
    }
  ],
  "metadata": {
    "kernelspec": {
      "display_name": "Python 3",
      "language": "python",
      "name": "python3"
    },
    "language_info": {
      "codemirror_mode": {
        "name": "ipython",
        "version": 3
      },
      "file_extension": ".py",
      "mimetype": "text/x-python",
      "name": "python",
      "nbconvert_exporter": "python",
      "pygments_lexer": "ipython3",
      "version": "3.9.1"
    },
    "colab": {
      "provenance": []
    }
  },
  "nbformat": 4,
  "nbformat_minor": 5
}